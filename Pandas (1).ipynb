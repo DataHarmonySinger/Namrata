{
  "nbformat": 4,
  "nbformat_minor": 0,
  "metadata": {
    "colab": {
      "provenance": []
    },
    "kernelspec": {
      "name": "python3",
      "display_name": "Python 3"
    },
    "language_info": {
      "name": "python"
    }
  },
  "cells": [
    {
      "cell_type": "code",
      "execution_count": null,
      "metadata": {
        "id": "cbYdEzP-oGnw"
      },
      "outputs": [],
      "source": [
        "import pandas as pd"
      ]
    },
    {
      "cell_type": "code",
      "source": [
        "import pandas as pd\n",
        "df = pd.DataFrame({\n",
        "    'Column1': [1, 2, 3, 4, 5],\n",
        "    'Column2': ['A', 'B', 'C', 'D', 'E'],\n",
        "    'Column3': [1.1, 2.2, 3.3, 4.4, 5.5]\n",
        "})\n",
        "first_three_rows = df.head(3)\n",
        "print(first_three_rows)"
      ],
      "metadata": {
        "colab": {
          "base_uri": "https://localhost:8080/"
        },
        "id": "laQcssJqoScO",
        "outputId": "bf7541f4-3a4a-4f8e-a8cb-19c0929f8d0f"
      },
      "execution_count": null,
      "outputs": [
        {
          "output_type": "stream",
          "name": "stdout",
          "text": [
            "   Column1 Column2  Column3\n",
            "0        1       A      1.1\n",
            "1        2       B      2.2\n",
            "2        3       C      3.3\n"
          ]
        }
      ]
    },
    {
      "cell_type": "code",
      "source": [
        "import pandas as pd\n",
        "data = {\n",
        "    'name': ['Alice', 'Bob', 'Charlie', 'David', 'Eve'],\n",
        "    'score': [85, 92, 88, 91, 89],\n",
        "    'age': [20, 25, 22, 23, 24]\n",
        "}\n",
        "df = pd.DataFrame(data)\n",
        "selected_columns = df[['name', 'score']]\n",
        "\n",
        "print(selected_columns)"
      ],
      "metadata": {
        "colab": {
          "base_uri": "https://localhost:8080/"
        },
        "id": "t3x88gilpurs",
        "outputId": "96058431-85a9-45a1-87fe-df5a67dd43b3"
      },
      "execution_count": null,
      "outputs": [
        {
          "output_type": "stream",
          "name": "stdout",
          "text": [
            "      name  score\n",
            "0    Alice     85\n",
            "1      Bob     92\n",
            "2  Charlie     88\n",
            "3    David     91\n",
            "4      Eve     89\n"
          ]
        }
      ]
    },
    {
      "cell_type": "code",
      "source": [
        "import pandas as pd\n",
        "data = {\n",
        "    'name': ['Alice', 'Bob', 'Charlie', 'David', 'Eve'],\n",
        "    'score': [85, 92, 88, 91, 89],\n",
        "    'attempts': [1, 3, 2, 3, 4]\n",
        "}\n",
        "df = pd.DataFrame(data)\n",
        "attempts_gt_2 = df[df['attempts'] > 2]\n",
        "\n",
        "print(attempts_gt_2)"
      ],
      "metadata": {
        "colab": {
          "base_uri": "https://localhost:8080/"
        },
        "id": "Nz3HFffSqZRE",
        "outputId": "f3adbcf8-4c3a-431a-ae90-2fa2d596cc2f"
      },
      "execution_count": null,
      "outputs": [
        {
          "output_type": "stream",
          "name": "stdout",
          "text": [
            "    name  score  attempts\n",
            "1    Bob     92         3\n",
            "3  David     91         3\n",
            "4    Eve     89         4\n"
          ]
        }
      ]
    },
    {
      "cell_type": "code",
      "source": [
        "import pandas as pd\n",
        "data = {\n",
        "    'Name': ['Alice', 'Bob', 'Charlie', None],\n",
        "    'Age': [25, None, 30, 22],\n",
        "    'City': ['New York', 'Los Angeles', 'Chicago', 'Houston']\n",
        "}\n",
        "df = pd.DataFrame(data)\n",
        "column_non_na = df.count()\n",
        "print(\"Non-NA values in each column:\\n\", column_non_na)\n",
        "row_non_na = df.count(axis=1)\n",
        "print(\"\\nNon-NA values in each row:\\n\", row_non_na)"
      ],
      "metadata": {
        "colab": {
          "base_uri": "https://localhost:8080/"
        },
        "id": "WzV-66LgstkN",
        "outputId": "812e8f07-16f9-4e6c-d6dd-eceada0cdee2"
      },
      "execution_count": null,
      "outputs": [
        {
          "output_type": "stream",
          "name": "stdout",
          "text": [
            "Non-NA values in each column:\n",
            " Name    3\n",
            "Age     3\n",
            "City    4\n",
            "dtype: int64\n",
            "\n",
            "Non-NA values in each row:\n",
            " 0    3\n",
            "1    2\n",
            "2    3\n",
            "3    2\n",
            "dtype: int64\n"
          ]
        }
      ]
    },
    {
      "cell_type": "code",
      "source": [
        "import pandas as pd\n",
        "import numpy as np\n",
        "data = {\n",
        "    'Name': ['Alice', 'Bob', 'Charlie', 'David'],\n",
        "    'Score': [np.nan, 88, np.nan, 92],\n",
        "    'Attempts': [1, 3, 2, 4]\n",
        "}\n",
        "df = pd.DataFrame(data)\n",
        "rows_with_nan_score = df[pd.isna(df['Score'])]\n",
        "\n",
        "print(rows_with_nan_score)"
      ],
      "metadata": {
        "colab": {
          "base_uri": "https://localhost:8080/"
        },
        "id": "ZLR3pymfudo4",
        "outputId": "a0ef12b3-ef87-4b22-a5ff-9ba30baebbfd"
      },
      "execution_count": null,
      "outputs": [
        {
          "output_type": "stream",
          "name": "stdout",
          "text": [
            "      Name  Score  Attempts\n",
            "0    Alice    NaN         1\n",
            "2  Charlie    NaN         2\n"
          ]
        }
      ]
    },
    {
      "cell_type": "code",
      "source": [
        "import pandas as pd\n",
        "data = {\n",
        "    'Name': ['Alice', 'Bob', 'Charlie', 'David', 'Eve'],\n",
        "    'Score': [12, 18, 20, 15, 22]\n",
        "}\n",
        "df = pd.DataFrame(data)\n",
        "rows_within_range = df[(df['Score'] >= 15) & (df['Score'] <= 20)]\n",
        "\n",
        "print(rows_within_range)\n"
      ],
      "metadata": {
        "colab": {
          "base_uri": "https://localhost:8080/"
        },
        "id": "YwxJp42SwT0e",
        "outputId": "c8dec31b-000c-4652-ccb5-7723a05f8393"
      },
      "execution_count": null,
      "outputs": [
        {
          "output_type": "stream",
          "name": "stdout",
          "text": [
            "      Name  Score\n",
            "1      Bob     18\n",
            "2  Charlie     20\n",
            "3    David     15\n"
          ]
        }
      ]
    },
    {
      "cell_type": "code",
      "source": [
        "import pandas as pd\n",
        "import numpy as np\n",
        "exam_data = {\n",
        "    'name': ['Anastasia', 'Dima', 'Katherine', 'James', 'Emily', 'Michael', 'Matthew', 'Laura', 'Kevin', 'Jonas'],\n",
        "    'score': [12.5, 9, 16.5, np.nan, 9, 20, 14.5, np.nan, 8, 19],\n",
        "    'attempts': [1, 3, 2, 3, 2, 3, 1, 1, 2, 1],\n",
        "    'qualify': ['yes', 'no', 'yes', 'no', 'no', 'yes', 'yes', 'no', 'no', 'yes']\n",
        "}\n",
        "df = pd.DataFrame(exam_data)\n",
        "total_attempts = df['attempts'].sum()\n",
        "\n",
        "print(\"Total examination attempts by the students:\", total_attempts)"
      ],
      "metadata": {
        "colab": {
          "base_uri": "https://localhost:8080/"
        },
        "id": "XoEtuB_m1eaK",
        "outputId": "d770dabd-a320-4da5-a4f4-c40dd0f4b31c"
      },
      "execution_count": null,
      "outputs": [
        {
          "output_type": "stream",
          "name": "stdout",
          "text": [
            "Total examination attempts by the students: 19\n"
          ]
        }
      ]
    },
    {
      "cell_type": "code",
      "source": [
        "import pandas as pd\n",
        "data = {\n",
        "    'Name': ['John Doe', 'Jane Smith', 'Alice Johnson', 'John Doe', 'Jane Smith'],\n",
        "    'Salary': [50000, 60000, 55000, 50000, 60000],\n",
        "    'Designation': ['Developer', 'Manager', 'Tester', 'Developer', 'Manager']\n",
        "}\n",
        "df = pd.DataFrame(data)\n",
        "print(\"DataFrame before removing duplicates:\")\n",
        "print(df)\n",
        "df_unique = df.drop_duplicates()\n",
        "print(\"\\nDataFrame after removing duplicates:\")\n",
        "print(df_unique)"
      ],
      "metadata": {
        "colab": {
          "base_uri": "https://localhost:8080/"
        },
        "id": "bwCZDWWf2ZnI",
        "outputId": "e96fa849-79e9-4a04-ae06-472b3eec0428"
      },
      "execution_count": null,
      "outputs": [
        {
          "output_type": "stream",
          "name": "stdout",
          "text": [
            "DataFrame before removing duplicates:\n",
            "            Name  Salary Designation\n",
            "0       John Doe   50000   Developer\n",
            "1     Jane Smith   60000     Manager\n",
            "2  Alice Johnson   55000      Tester\n",
            "3       John Doe   50000   Developer\n",
            "4     Jane Smith   60000     Manager\n",
            "\n",
            "DataFrame after removing duplicates:\n",
            "            Name  Salary Designation\n",
            "0       John Doe   50000   Developer\n",
            "1     Jane Smith   60000     Manager\n",
            "2  Alice Johnson   55000      Tester\n"
          ]
        }
      ]
    },
    {
      "cell_type": "code",
      "source": [
        "import pandas as pd\n",
        "employee_data = {\n",
        "    'Name': ['Alice', 'Bob', 'Charlie', 'Alice', 'Bob'],\n",
        "    'Salary': [50000, 60000, 70000, 50000, 60000],\n",
        "    'Designation': ['Engineer', 'Manager', 'Analyst', 'Engineer', 'Manager']\n",
        "}\n",
        "df = pd.DataFrame(employee_data)\n",
        "\n",
        "print(\"Original DataFrame:\")\n",
        "print(df)\n",
        "df_no_duplicates = df.drop_duplicates()\n",
        "\n",
        "print(\"\\nDataFrame after removing duplicates:\")\n",
        "print(df_no_duplicates)"
      ],
      "metadata": {
        "colab": {
          "base_uri": "https://localhost:8080/"
        },
        "id": "fW2FOw6q4Kc1",
        "outputId": "a591b89c-7074-4008-87d6-89d735d15117"
      },
      "execution_count": null,
      "outputs": [
        {
          "output_type": "stream",
          "name": "stdout",
          "text": [
            "Original DataFrame:\n",
            "      Name  Salary Designation\n",
            "0    Alice   50000    Engineer\n",
            "1      Bob   60000     Manager\n",
            "2  Charlie   70000     Analyst\n",
            "3    Alice   50000    Engineer\n",
            "4      Bob   60000     Manager\n",
            "\n",
            "DataFrame after removing duplicates:\n",
            "      Name  Salary Designation\n",
            "0    Alice   50000    Engineer\n",
            "1      Bob   60000     Manager\n",
            "2  Charlie   70000     Analyst\n"
          ]
        }
      ]
    },
    {
      "cell_type": "code",
      "source": [
        "import pandas as pd\n",
        "# Sample data: 10 students, marks in 5 subjects\n",
        "data = {\n",
        "    'Student': ['Student1', 'Student2', 'Student3', 'Student4', 'Student5',\n",
        "                'Student6', 'Student7', 'Student8', 'Student9', 'Student10'],\n",
        "    'Math': [78, 85, 60, 90, 55, 65, 85, 88, 92, 40],\n",
        "    'Science': [88, 92, 61, 65, 59, 77, 90, 82, 95, 30],\n",
        "    'English': [68, 75, 65, 70, 60, 80, 78, 85, 80, 45],\n",
        "    'History': [70, 80, 67, 75, 65, 70, 88, 90, 85, 35],\n",
        "    'Geography': [92, 88, 72, 80, 70, 75, 91, 88, 90, 50]\n",
        "}\n",
        "# Create DataFrame\n",
        "df = pd.DataFrame(data)\n",
        "# Calculate percentage\n",
        "try:\n",
        "    df['Percentage'] = df.iloc[:, 1:].sum(axis=1) / 5\n",
        "except ZeroDivisionError:\n",
        "    print(\"Error: Division by zero encountered.\")\n",
        "except Exception as e:\n",
        "    print(f\"An error occurred: {e}\")\n",
        "def determine_grade(percentage):\n",
        "    if percentage < 60:\n",
        "        return 'Fail'\n",
        "    elif percentage <= 80:\n",
        "        return 'Grade B'\n",
        "    else:\n",
        "        return 'Grade A'\n",
        "\n",
        "df['Grade'] = df['Percentage'].apply(determine_grade)\n",
        "print(df)\n"
      ],
      "metadata": {
        "colab": {
          "base_uri": "https://localhost:8080/"
        },
        "id": "O8hv-zRq4T9g",
        "outputId": "47590e18-146d-48d7-8823-efe41f13bb6d"
      },
      "execution_count": null,
      "outputs": [
        {
          "output_type": "stream",
          "name": "stdout",
          "text": [
            "     Student  Math  Science  English  History  Geography  Percentage    Grade\n",
            "0   Student1    78       88       68       70         92        79.2  Grade B\n",
            "1   Student2    85       92       75       80         88        84.0  Grade A\n",
            "2   Student3    60       61       65       67         72        65.0  Grade B\n",
            "3   Student4    90       65       70       75         80        76.0  Grade B\n",
            "4   Student5    55       59       60       65         70        61.8  Grade B\n",
            "5   Student6    65       77       80       70         75        73.4  Grade B\n",
            "6   Student7    85       90       78       88         91        86.4  Grade A\n",
            "7   Student8    88       82       85       90         88        86.6  Grade A\n",
            "8   Student9    92       95       80       85         90        88.4  Grade A\n",
            "9  Student10    40       30       45       35         50        40.0     Fail\n"
          ]
        }
      ]
    },
    {
      "cell_type": "code",
      "source": [
        "a = np.array([2, 4, 6])\n",
        "b = a[0:2]\n",
        "print(b)\n"
      ],
      "metadata": {
        "colab": {
          "base_uri": "https://localhost:8080/"
        },
        "id": "8sD21oRgA6qF",
        "outputId": "a61f49c3-793d-4aaf-b1f5-4bf71ece05ce"
      },
      "execution_count": null,
      "outputs": [
        {
          "output_type": "stream",
          "name": "stdout",
          "text": [
            "[2 4]\n"
          ]
        }
      ]
    },
    {
      "cell_type": "code",
      "source": [
        "a = np.array([2, 4, 6, 8])\n",
        "print(a)\n",
        "b = a[1:]\n",
        "print(b)\n"
      ],
      "metadata": {
        "colab": {
          "base_uri": "https://localhost:8080/"
        },
        "id": "ad9yaD6wErMq",
        "outputId": "c1082067-a7c5-455c-a1cf-8de3d09e23c9"
      },
      "execution_count": null,
      "outputs": [
        {
          "output_type": "stream",
          "name": "stdout",
          "text": [
            "[2 4 6 8]\n",
            "[4 6 8]\n"
          ]
        }
      ]
    },
    {
      "cell_type": "code",
      "source": [
        "a = np.array([2, 4, 6, 8])\n",
        "print(a)\n",
        "b = a[:3]\n",
        "print(b)\n",
        "\n"
      ],
      "metadata": {
        "colab": {
          "base_uri": "https://localhost:8080/"
        },
        "id": "aFWGsn2jEyBW",
        "outputId": "a23fb5b6-6f79-4713-d5c8-15bf07cb33aa"
      },
      "execution_count": null,
      "outputs": [
        {
          "output_type": "stream",
          "name": "stdout",
          "text": [
            "[2 4 6 8]\n",
            "[2 4 6]\n"
          ]
        }
      ]
    },
    {
      "cell_type": "code",
      "source": [
        "a = np.array([2, 4, 6, 8])\n",
        "b = a[0:4]\n",
        "print(b)\n",
        "c = a[:4]\n",
        "print(c)\n",
        "d = a[0:]\n",
        "print(d)\n",
        "e = a[:]\n",
        "print(e)\n"
      ],
      "metadata": {
        "colab": {
          "base_uri": "https://localhost:8080/"
        },
        "id": "rFnOM2gkFjUJ",
        "outputId": "948c6b3c-c023-42f0-ceb7-9c4c4ec239a3"
      },
      "execution_count": null,
      "outputs": [
        {
          "output_type": "stream",
          "name": "stdout",
          "text": [
            "[2 4 6 8]\n",
            "[2 4 6 8]\n",
            "[2 4 6 8]\n",
            "[2 4 6 8]\n"
          ]
        }
      ]
    },
    {
      "cell_type": "code",
      "source": [
        "a = np.array([[2, 4, 6, 8], [10, 20, 30, 40]])\n",
        "print(a)\n",
        "b = a[0:2, 0:3]\n",
        "print(b)\n"
      ],
      "metadata": {
        "colab": {
          "base_uri": "https://localhost:8080/"
        },
        "id": "X0txpo7GFtnJ",
        "outputId": "13ebb7cc-13b0-4201-9f78-1fbec6c89aae"
      },
      "execution_count": null,
      "outputs": [
        {
          "output_type": "stream",
          "name": "stdout",
          "text": [
            "[[ 2  4  6  8]\n",
            " [10 20 30 40]]\n",
            "[[ 2  4  6]\n",
            " [10 20 30]]\n"
          ]
        }
      ]
    },
    {
      "cell_type": "code",
      "source": [
        "a = np.array([[2, 4, 6, 8], [10, 20, 30, 40]])\n",
        "b = a[:,:]  #[all rows, all columns]\n",
        "print(b)\n",
        "\n"
      ],
      "metadata": {
        "colab": {
          "base_uri": "https://localhost:8080/"
        },
        "id": "FG0HKb-qFzxd",
        "outputId": "85c1653f-2705-4cd8-fe71-d6569893e292"
      },
      "execution_count": null,
      "outputs": [
        {
          "output_type": "stream",
          "name": "stdout",
          "text": [
            "[[ 2  4  6  8]\n",
            " [10 20 30 40]]\n"
          ]
        }
      ]
    },
    {
      "cell_type": "code",
      "source": [
        "arr = np.array([1, 2, 3, 4, 5, 6, 7])\n",
        "print(arr[-3:-1])\n"
      ],
      "metadata": {
        "colab": {
          "base_uri": "https://localhost:8080/"
        },
        "id": "KwVDS19NF52C",
        "outputId": "c50d84ac-8fa1-4591-eb24-e4d222762612"
      },
      "execution_count": null,
      "outputs": [
        {
          "output_type": "stream",
          "name": "stdout",
          "text": [
            "[5 6]\n"
          ]
        }
      ]
    },
    {
      "cell_type": "code",
      "source": [
        "arr = np.array([1, 2, 3, 4, 5, 6, 7])\n",
        "print(arr[::2])\n"
      ],
      "metadata": {
        "colab": {
          "base_uri": "https://localhost:8080/"
        },
        "id": "CvF03n0DF_-o",
        "outputId": "bf3c10e6-df1e-4b43-f16b-458944b738d1"
      },
      "execution_count": null,
      "outputs": [
        {
          "output_type": "stream",
          "name": "stdout",
          "text": [
            "[1 3 5 7]\n"
          ]
        }
      ]
    },
    {
      "cell_type": "code",
      "source": [
        "arr = np.array([1, 2, 3, 4, 5, 6, 7, 8, 9, 10, 11, 12])\n",
        "newarr = arr.reshape(4, 3)\n",
        "print(newarr)\n"
      ],
      "metadata": {
        "colab": {
          "base_uri": "https://localhost:8080/"
        },
        "id": "MR9L-MEfGbOB",
        "outputId": "ef09b760-5f1b-46fc-d49b-001d82895dc0"
      },
      "execution_count": null,
      "outputs": [
        {
          "output_type": "stream",
          "name": "stdout",
          "text": [
            "[[ 1  2  3]\n",
            " [ 4  5  6]\n",
            " [ 7  8  9]\n",
            " [10 11 12]]\n"
          ]
        }
      ]
    },
    {
      "cell_type": "code",
      "source": [
        "arr = np.array([1, 2, 3, 4, 5, 6, 7, 8, 9, 10, 11, 12])\n",
        "newarr = arr.reshape(2, 3, 2)\n",
        "print(newarr)\n",
        "\n"
      ],
      "metadata": {
        "colab": {
          "base_uri": "https://localhost:8080/"
        },
        "id": "7NaiQtYxGljz",
        "outputId": "0c7d897f-2600-48a7-f824-329464ee7ea7"
      },
      "execution_count": null,
      "outputs": [
        {
          "output_type": "stream",
          "name": "stdout",
          "text": [
            "[[[ 1  2]\n",
            "  [ 3  4]\n",
            "  [ 5  6]]\n",
            "\n",
            " [[ 7  8]\n",
            "  [ 9 10]\n",
            "  [11 12]]]\n"
          ]
        }
      ]
    },
    {
      "cell_type": "code",
      "source": [
        "arr = np.array([1, 2, 3, 4, 5, 6, 7, 8])\n",
        "newarr = arr.reshape(2, 2, -1)\n",
        "print(newarr)\n"
      ],
      "metadata": {
        "colab": {
          "base_uri": "https://localhost:8080/"
        },
        "id": "wdZAqcjGGoN7",
        "outputId": "848a0287-2a2a-4a00-8808-9e2a13f28eb9"
      },
      "execution_count": null,
      "outputs": [
        {
          "output_type": "stream",
          "name": "stdout",
          "text": [
            "[[[1 2]\n",
            "  [3 4]]\n",
            "\n",
            " [[5 6]\n",
            "  [7 8]]]\n"
          ]
        }
      ]
    },
    {
      "cell_type": "code",
      "source": [
        "arr = np.arange(10)\n",
        "arr.reshape(2, -1)\n",
        "\n"
      ],
      "metadata": {
        "colab": {
          "base_uri": "https://localhost:8080/"
        },
        "id": "5GMEtAvnG1zW",
        "outputId": "5e0db20b-d38d-411e-9c18-a3050de984ef"
      },
      "execution_count": null,
      "outputs": [
        {
          "output_type": "execute_result",
          "data": {
            "text/plain": [
              "array([[0, 1, 2, 3, 4],\n",
              "       [5, 6, 7, 8, 9]])"
            ]
          },
          "metadata": {},
          "execution_count": 35
        }
      ]
    },
    {
      "cell_type": "code",
      "source": [
        "arr = np.array([[1, 2, 3], [4, 5, 6]])\n",
        "newarr = arr.reshape(-1)\n"
      ],
      "metadata": {
        "id": "BpNu2ugfG5Jr"
      },
      "execution_count": null,
      "outputs": []
    }
  ]
}