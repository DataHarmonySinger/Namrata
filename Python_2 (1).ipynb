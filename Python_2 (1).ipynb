{
  "nbformat": 4,
  "nbformat_minor": 0,
  "metadata": {
    "colab": {
      "provenance": []
    },
    "kernelspec": {
      "name": "python3",
      "display_name": "Python 3"
    },
    "language_info": {
      "name": "python"
    }
  },
  "cells": [
    {
      "cell_type": "code",
      "source": [
        "def multiply_numbers(numbers):\n",
        "  result = 1\n",
        "  for number in numbers:\n",
        "        result *= number\n",
        "  return result\n",
        "numbers_list = [1, 2, 3, 4, 5]\n",
        "print(multiply_numbers(numbers_list))\n",
        "another_numbers_list = [2, 3, 10]\n",
        "print(multiply_numbers(another_numbers_list))"
      ],
      "metadata": {
        "colab": {
          "base_uri": "https://localhost:8080/"
        },
        "id": "IsEY-UA4NKX3",
        "outputId": "7a79d32a-3711-40da-bec6-650dcb4078c1"
      },
      "execution_count": null,
      "outputs": [
        {
          "output_type": "stream",
          "name": "stdout",
          "text": [
            "120\n",
            "60\n"
          ]
        }
      ]
    },
    {
      "cell_type": "code",
      "execution_count": null,
      "metadata": {
        "colab": {
          "base_uri": "https://localhost:8080/"
        },
        "id": "NZEmsDp8MGr2",
        "outputId": "f681afb6-390b-4dfe-c7ae-2ab52baeeb8c"
      },
      "outputs": [
        {
          "output_type": "stream",
          "name": "stdout",
          "text": [
            "25\n",
            "3\n"
          ]
        }
      ],
      "source": [
        "def find_max_of_three(numbers):\n",
        "  if len(numbers) < 3:\n",
        "     return \"The list should contain at least three numbers.\"\n",
        "  else:\n",
        "     return max(numbers)\n",
        "numbers_list = [5, 10, 15, 20, 25]\n",
        "print(find_max_of_three(numbers_list))\n",
        "three_numbers_list = [3, 1, 2]\n",
        "print(find_max_of_three(three_numbers_list))"
      ]
    },
    {
      "cell_type": "code",
      "source": [
        "def reverse_list(input_list):\n",
        "    return input_list[::-1]\n",
        "print(reverse_list([1, 2, 3, 4, 5]))"
      ],
      "metadata": {
        "colab": {
          "base_uri": "https://localhost:8080/"
        },
        "id": "WB3esR75NnUy",
        "outputId": "3af8aa7e-a4b8-4f52-bd49-5c34b24183f8"
      },
      "execution_count": null,
      "outputs": [
        {
          "output_type": "stream",
          "name": "stdout",
          "text": [
            "[5, 4, 3, 2, 1]\n"
          ]
        }
      ]
    },
    {
      "cell_type": "code",
      "source": [
        "def is_within_range(number, range_min, range_max):\n",
        "    return range_min <= number <= range_max\n",
        "print(is_within_range(5, 1, 10))  # Should return True\n",
        "print(is_within_range(15, 1, 10))  # Should return False"
      ],
      "metadata": {
        "colab": {
          "base_uri": "https://localhost:8080/"
        },
        "id": "5g-Y2xihOHiG",
        "outputId": "29844413-fa3e-4eb5-cae7-35cb08a6c58d"
      },
      "execution_count": null,
      "outputs": [
        {
          "output_type": "stream",
          "name": "stdout",
          "text": [
            "True\n",
            "False\n"
          ]
        }
      ]
    },
    {
      "cell_type": "code",
      "source": [
        "def count_case(s):\n",
        "    upper, lower = 0, 0\n",
        "    for char in s:\n",
        "        if char.isupper():\n",
        "            upper += 1\n",
        "        elif char.islower():\n",
        "            lower += 1\n",
        "    return upper, lower\n",
        "upper_count, lower_count = count_case(\"Hello World\")\n",
        "print(f\"Upper case: {upper_count}, Lower case: {lower_count}\")"
      ],
      "metadata": {
        "colab": {
          "base_uri": "https://localhost:8080/"
        },
        "id": "ivo-zvp8ORZn",
        "outputId": "d2c5f169-b527-46d4-d212-10b62e98a4b4"
      },
      "execution_count": null,
      "outputs": [
        {
          "output_type": "stream",
          "name": "stdout",
          "text": [
            "Upper case: 2, Lower case: 8\n"
          ]
        }
      ]
    },
    {
      "cell_type": "code",
      "source": [
        "def unique_list(l):\n",
        "    return list(set(l))\n",
        "print(unique_list([1,2,3,3,3,3,4,5]))"
      ],
      "metadata": {
        "colab": {
          "base_uri": "https://localhost:8080/"
        },
        "id": "jPhneEyAOWA6",
        "outputId": "0442d458-6057-4612-99f0-9220895e93ee"
      },
      "execution_count": null,
      "outputs": [
        {
          "output_type": "stream",
          "name": "stdout",
          "text": [
            "[1, 2, 3, 4, 5]\n"
          ]
        }
      ]
    },
    {
      "cell_type": "code",
      "source": [
        "my_list = [1, 2, 3]\n",
        "my_list.append(4)\n",
        "print(\"After append:\", my_list)\n",
        "my_list.remove(2)\n",
        "print(\"After remove:\", my_list)\n",
        "my_list.insert(1, 2)\n",
        "print(\"After insert:\", my_list)\n",
        "my_list.pop()\n",
        "print(\"After pop:\", my_list)"
      ],
      "metadata": {
        "colab": {
          "base_uri": "https://localhost:8080/"
        },
        "id": "TLNaTC0-OcEN",
        "outputId": "c2e4f53d-f28c-4199-fbc1-c3f954bc77e5"
      },
      "execution_count": null,
      "outputs": [
        {
          "output_type": "stream",
          "name": "stdout",
          "text": [
            "After append: [1, 2, 3, 4]\n",
            "After remove: [1, 3, 4]\n",
            "After insert: [1, 2, 3, 4]\n",
            "After pop: [1, 2, 3]\n"
          ]
        }
      ]
    },
    {
      "cell_type": "code",
      "source": [
        "def list_to_dict(input_list):\n",
        "    return dict(input_list)\n",
        "print(list_to_dict([(1, 'a'), (2, 'b'), (3, 'c')]))"
      ],
      "metadata": {
        "colab": {
          "base_uri": "https://localhost:8080/"
        },
        "id": "CqrBqZKKO7Xq",
        "outputId": "b3e3ceab-1e6c-4f59-de27-03b8ac525a03"
      },
      "execution_count": null,
      "outputs": [
        {
          "output_type": "stream",
          "name": "stdout",
          "text": [
            "{1: 'a', 2: 'b', 3: 'c'}\n"
          ]
        }
      ]
    },
    {
      "cell_type": "code",
      "source": [
        "def extract_keys(sample_dict, keys):\n",
        "    return {key: sample_dict[key] for key in keys if key in sample_dict}\n",
        "sample_dict = {\n",
        "    \"name\": \"Kelly\",\n",
        "    \"age\": 25,\n",
        "    \"salary\": 8000,\n",
        "    \"city\": \"New york\"\n",
        "}\n",
        "keys = [\"name\", \"salary\"]\n",
        "print(extract_keys(sample_dict, keys))"
      ],
      "metadata": {
        "colab": {
          "base_uri": "https://localhost:8080/"
        },
        "id": "B9hnUG9ZPBYd",
        "outputId": "414e481e-7f1e-4e98-d1ad-d5bf60745e27"
      },
      "execution_count": null,
      "outputs": [
        {
          "output_type": "stream",
          "name": "stdout",
          "text": [
            "{'name': 'Kelly', 'salary': 8000}\n"
          ]
        }
      ]
    },
    {
      "cell_type": "code",
      "source": [
        "def min_value_key(sample_dict):\n",
        "    return min(sample_dict, key=sample_dict.get)\n",
        "sample_dict = {\n",
        "    'Physics': 82,\n",
        "    'Math': 65,\n",
        "    'history': 75\n",
        "}\n",
        "print(min_value_key(sample_dict))"
      ],
      "metadata": {
        "colab": {
          "base_uri": "https://localhost:8080/"
        },
        "id": "r-fNbPzhPj95",
        "outputId": "965e95c0-b7c9-453a-d0c8-569d015d15c1"
      },
      "execution_count": null,
      "outputs": [
        {
          "output_type": "stream",
          "name": "stdout",
          "text": [
            "Math\n"
          ]
        }
      ]
    },
    {
      "cell_type": "code",
      "source": [
        "def sort_dict_desc(sample_dict):\n",
        "    return dict(sorted(sample_dict.items(), key=lambda item: item[1], reverse=True))\n",
        "sample_dict = {\n",
        "    'Physics': 82,\n",
        "    'Math': 65,\n",
        "    'history': 75,\n",
        "    'chemistry': 89,\n",
        "    'GK': 50\n",
        "}\n",
        "print(sort_dict_desc(sample_dict))"
      ],
      "metadata": {
        "colab": {
          "base_uri": "https://localhost:8080/"
        },
        "id": "Bd2WJSl7QW8a",
        "outputId": "0412898e-5fd2-456e-e0f1-64b8255d7661"
      },
      "execution_count": null,
      "outputs": [
        {
          "output_type": "stream",
          "name": "stdout",
          "text": [
            "{'chemistry': 89, 'Physics': 82, 'history': 75, 'Math': 65, 'GK': 50}\n"
          ]
        }
      ]
    }
  ]
}