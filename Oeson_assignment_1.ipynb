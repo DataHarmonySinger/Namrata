{
  "nbformat": 4,
  "nbformat_minor": 0,
  "metadata": {
    "colab": {
      "provenance": [],
      "authorship_tag": "ABX9TyPS4RlOX6mza1FiEju0EIqD",
      "include_colab_link": true
    },
    "kernelspec": {
      "name": "python3",
      "display_name": "Python 3"
    },
    "language_info": {
      "name": "python"
    }
  },
  "cells": [
    {
      "cell_type": "markdown",
      "metadata": {
        "id": "view-in-github",
        "colab_type": "text"
      },
      "source": [
        "<a href=\"https://colab.research.google.com/github/DataHarmonySinger/Namrata/blob/main/Oeson_assignment_1.ipynb\" target=\"_parent\"><img src=\"https://colab.research.google.com/assets/colab-badge.svg\" alt=\"Open In Colab\"/></a>"
      ]
    },
    {
      "cell_type": "code",
      "execution_count": null,
      "metadata": {
        "id": "SyBXfgWBMfS2"
      },
      "outputs": [],
      "source": [
        "#square of series\n",
        "n=12\n",
        "for i in range(1, n+1):\n",
        "  square = i*i\n",
        "  print(square, end=', ' if i<n else '')"
      ]
    },
    {
      "cell_type": "code",
      "source": [
        "#Fibonacci series\n",
        "n1 = 0\n",
        "n2 = 1\n",
        "for i in range (0,10):\n",
        "  sum = n1+n2\n",
        "  print(sum)\n",
        "  n1=n2\n",
        "  n2=sum\n"
      ],
      "metadata": {
        "id": "q05M4R27cjZq"
      },
      "execution_count": null,
      "outputs": []
    },
    {
      "cell_type": "code",
      "source": [
        "#count number of vowels in word\n",
        "word = input(\"Enter a word: \")\n",
        "vowel_count = 0\n",
        "vowels = 'aeiouAEIOU'\n",
        "for letter in word:\n",
        "  if letter in vowels:\n",
        "    vowel_count += 1\n",
        "print(\"The number of vowels in the word is:\", vowel_count)"
      ],
      "metadata": {
        "id": "eX0TSJIYIHh_"
      },
      "execution_count": null,
      "outputs": []
    },
    {
      "cell_type": "code",
      "source": [
        "#sum of digits of number enter by user\n",
        "n=int(input(\"Enter number\"))\n",
        "\n",
        "sum=0\n",
        "\n",
        "for digit in str(n):\n",
        "    sum=sum+int(digit)\n",
        "\n",
        "print(\"Sum of digits\",sum)\n",
        "\n"
      ],
      "metadata": {
        "id": "xlkNt8JHgh5f"
      },
      "execution_count": null,
      "outputs": []
    },
    {
      "cell_type": "code",
      "source": [
        "#print date and time of system\n",
        "import datetime\n",
        "current_datetime = datetime.datetime.now()\n",
        "print(\"Current date and time:\", current_datetime)"
      ],
      "metadata": {
        "id": "vBdvWXQFgiDl"
      },
      "execution_count": null,
      "outputs": []
    },
    {
      "cell_type": "code",
      "source": [
        "#calculate compound interest\n",
        "P = float(input(\"Enter the principal amount: \"))\n",
        "r = float(input(\"Enter the annual interest rate (as a percentage): \")) / 100\n",
        "n = int(input(\"Enter the number of times interest is compounded per year: \"))\n",
        "t = int(input(\"Enter the time in years: \"))\n",
        "A = P * (1 + r/n) ** (n*t)\n",
        "compound_interest = A - P\n",
        "print(\"The total amount after\", t, \"years is:\", A)\n",
        "print(\"The compound interest earned is:\", compound_interest)"
      ],
      "metadata": {
        "id": "XDL1b4-vBEwa"
      },
      "execution_count": null,
      "outputs": []
    },
    {
      "cell_type": "code",
      "source": [
        "#count number of spaces in a given sentence\n",
        "sentence = input(\"Enter a sentence: \")\n",
        "space_count = 0\n",
        "for char in sentence:\n",
        "  if char == ' ':\n",
        "     space_count += 1\n",
        "print(\"The number of spaces in the sentence is:\", space_count)"
      ],
      "metadata": {
        "id": "Vw3EL_IIIAcd"
      },
      "execution_count": null,
      "outputs": []
    },
    {
      "cell_type": "code",
      "source": [
        "#Show only even digits from a given number\n",
        "number = input(\"Enter a number: \")\n",
        "even_digits = ''\n",
        "for digit in number:\n",
        "  if digit.isdigit() and int(digit) % 2 == 0:\n",
        "    even_digits += digit\n",
        "if even_digits:\n",
        "    print(\"The even digits in the number are:\", even_digits)\n",
        "else:\n",
        "    print(\"There are no even digits in the number.\")"
      ],
      "metadata": {
        "id": "QLibLMYoI6_m"
      },
      "execution_count": null,
      "outputs": []
    },
    {
      "cell_type": "code",
      "source": [
        "#Swap first and last digit of the number\n",
        "number_str = input(\"Enter a number: \")\n",
        "if len(number_str) > 1 and number_str.isdigit():\n",
        "  if len(number_str) == 2:\n",
        "        swapped_number_str = number_str[::-1]\n",
        "    else:\n",
        "      swapped_number_str = number_str[-1] + number_str[1:-1] + number_str[0]\n",
        "      print(\"Number after swapping the first and last digits:\", swapped_number_str)\n",
        "else:\n",
        "   print(\"Please enter a valid number with more than one digit.\")"
      ],
      "metadata": {
        "id": "RWjgB-dRJkLh"
      },
      "execution_count": null,
      "outputs": []
    },
    {
      "cell_type": "code",
      "source": [
        "#Check whether the number is palindrome or not\n",
        "number = input(\"Enter a number: \")\n",
        "if number == number[::-1]:\n",
        "    print(f\"{number} is a palindrome.\")\n",
        "else:\n",
        "    print(f\"{number} is not a palindrome.\")"
      ],
      "metadata": {
        "id": "Uw0gNMG8KH78"
      },
      "execution_count": null,
      "outputs": []
    },
    {
      "cell_type": "code",
      "source": [
        "#The following pattern\n",
        "levels = 3\n",
        "for i in range(1, levels + 1):\n",
        "  print(' ' * (levels - i), end='')\n",
        " print('*' * (2 * i - 1), end='')\n",
        "  print()"
      ],
      "metadata": {
        "id": "2qiWM8TWLlpk"
      },
      "execution_count": null,
      "outputs": []
    },
    {
      "cell_type": "code",
      "source": [
        "#convert decimal to hexadecimal using print() output formatting\n",
        "decimal_number = int(input(\"Enter a decimal number: \"))\n",
        "hex_number = hex(decimal_number)\n",
        "print(f\"The hexadecimal representation of {decimal_number} is: {hex_number[2:].upper()}\")"
      ],
      "metadata": {
        "id": "VHq2KDo1MNA0"
      },
      "execution_count": null,
      "outputs": []
    },
    {
      "cell_type": "code",
      "source": [
        "#Three strings from one input() only\n",
        "input_string = input(\"Enter three strings separated by spaces: \")\n",
        "string1, string2, string3 = input_string.split(maxsplit=2)\n",
        "print(\"First string:\", string1)\n",
        "print(\"Second string:\", string2)\n",
        "print(\"Third string:\", string3)"
      ],
      "metadata": {
        "id": "iHT58aoTMNG2"
      },
      "execution_count": null,
      "outputs": []
    },
    {
      "cell_type": "code",
      "source": [
        "#print a sentence using string. Format() method\n",
        "str1, str2, str3 = input(\"Enter three words separated by spaces: \").split()\n",
        "print(\"Here are the words: {0}, {1}, and {2}.\".format(str1, str2, str3))"
      ],
      "metadata": {
        "id": "qpHLLjqGNzEh"
      },
      "execution_count": null,
      "outputs": []
    },
    {
      "cell_type": "code",
      "source": [
        "#read a file and print  second line from the file.\n",
        "with open(\"sample.txt\", \"r\") as file:\n",
        "   lines = file.readlines()\n",
        "    if len(lines) >= 2:\n",
        "        print(\"Second line:\", lines[1].strip())\n",
        "    else:\n",
        "        print(\"The file does not have a second line.\")"
      ],
      "metadata": {
        "id": "GNqBog3wOsZm"
      },
      "execution_count": null,
      "outputs": []
    },
    {
      "cell_type": "code",
      "source": [
        "#display all prime numbers within range of numbers\n",
        "start = 10\n",
        "end = 50\n",
        "def is_prime(n):\n",
        "    if n <= 1:\n",
        "        return False\n",
        "    for i in range(2, int(n**0.5) + 1):\n",
        "        if n % i == 0:\n",
        "            return False\n",
        "    return True\n",
        "for number in range(start, end + 1):\n",
        "  if is_prime(number):\n",
        "    print(number, end=\" \")\n",
        "print()"
      ],
      "metadata": {
        "id": "vXCW2GJnOGb9"
      },
      "execution_count": null,
      "outputs": []
    },
    {
      "cell_type": "code",
      "source": [
        "#print alternate alphabet from the string\n",
        "input_string = \"Hello, world!\"\n",
        "print(\"Alternate characters:\", input_string[::2])"
      ],
      "metadata": {
        "id": "UufNmtZYQa34"
      },
      "execution_count": null,
      "outputs": []
    },
    {
      "cell_type": "code",
      "source": [
        "#print the count of alphabet ,digits and special character from a given sentence.\n",
        "sentence = \"Hello, World! 2021\"\n",
        "alphabet_count = digit_count = special_count = 0\n",
        "for char in sentence:\n",
        "    if char.isalpha():\n",
        "        alphabet_count += 1\n",
        "    elif char.isdigit():\n",
        "        digit_count += 1\n",
        "    else:\n",
        "        special_count += 1\n",
        "print(\"Alphabets:\", alphabet_count)\n",
        "print(\"Digits:\", digit_count)\n",
        "print(\"Special characters:\", special_count)"
      ],
      "metadata": {
        "id": "HHGwywhlQrek"
      },
      "execution_count": null,
      "outputs": []
    },
    {
      "cell_type": "code",
      "source": [
        "#print the occurence of a given substring in string\n",
        "main_string = \"This is a test string, test it well.\"\n",
        "substring = \"test\"\n",
        "occurrence = main_string.count(substring)\n",
        "print(f\"The substring '{substring}' appears {occurrence} times.\")"
      ],
      "metadata": {
        "id": "fjouxChkRDrX"
      },
      "execution_count": null,
      "outputs": []
    },
    {
      "cell_type": "code",
      "source": [
        "#print the middle alphabet of a given string\n",
        "middle_index = len(input_string) // 2\n",
        "if len(input_string) % 2 == 0:\n",
        "    print(\"Middle characters:\", input_string[middle_index - 1:middle_index + 1])\n",
        "else:\n",
        "    print(\"Middle character:\", input_string[middle_index])"
      ],
      "metadata": {
        "id": "XTiFUY0RRNqw"
      },
      "execution_count": null,
      "outputs": []
    }
  ]
}